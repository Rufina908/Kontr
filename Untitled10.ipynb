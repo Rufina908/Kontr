{
  "nbformat": 4,
  "nbformat_minor": 0,
  "metadata": {
    "colab": {
      "name": "Untitled10.ipynb",
      "version": "0.3.2",
      "provenance": [],
      "include_colab_link": true
    },
    "kernelspec": {
      "name": "python3",
      "display_name": "Python 3"
    }
  },
  "cells": [
    {
      "cell_type": "markdown",
      "metadata": {
        "id": "view-in-github",
        "colab_type": "text"
      },
      "source": [
        "<a href=\"https://colab.research.google.com/github/Rufina908/Kontr/blob/master/Untitled10.ipynb\" target=\"_parent\"><img src=\"https://colab.research.google.com/assets/colab-badge.svg\" alt=\"Open In Colab\"/></a>"
      ]
    },
    {
      "metadata": {
        "id": "CSJjrpQHMoKG",
        "colab_type": "text"
      },
      "cell_type": "markdown",
      "source": [
        "# ** Задача №1 (стр. 172)**\n",
        "\n",
        "    Построить окружность, определив координаты ее центра и радиус:\n",
        "            x^2-4x+y^2+6y=12\n",
        "            \n",
        "            Решение:\n",
        "             Приведем уравнение к кононическому виду\n",
        "            \n",
        "            ((x^2)-4x+4)-4+((y^2)+6y+9)-9-12=0\n",
        "            \n",
        "            (x-2)^2+(y+3)^2-25=0\n",
        "            \n",
        "            (x-2)^2+(y+3)^2=25\n",
        "             \n",
        "           Перейдя к кононическому виду уравнения получаем\n",
        "             Центр окружности проходит через точку с координатами (2;-3) и радиуса R=5"
      ]
    },
    {
      "metadata": {
        "id": "ZszXuHstPvK3",
        "colab_type": "code",
        "outputId": "a0a3e0fa-ddfa-45c4-9890-18b846250e90",
        "colab": {
          "base_uri": "https://localhost:8080/",
          "height": 269
        }
      },
      "cell_type": "code",
      "source": [
        "import pylab\n",
        "import matplotlib.patches\n",
        "import matplotlib.lines\n",
        "import matplotlib.path\n",
        "\n",
        "\n",
        "def drawLine (axes):\n",
        "   # Радиус\n",
        "  \n",
        "    x0 = 2\n",
        "    y0 = -3\n",
        "    x1 = 2\n",
        "    y1 = 2\n",
        "\n",
        "    line = matplotlib.lines.Line2D ([x0, x1], [y0, y1], color=\"k\")\n",
        "    axes.add_line (line)\n",
        "\n",
        "    pylab.text (0.1, 0.1, \"R=5\", horizontalalignment=\"left\")\n",
        "    \n",
        "def drawCircles (axes):\n",
        "    #Окружность\n",
        "   \n",
        "    circle1 = matplotlib.patches.Circle((2, -3),  radius=0.1,  color=\"r\")\n",
        "    axes.add_patch  (circle1)\n",
        "    pylab.text (2.3,- 3.1, \"(-2;3)\", horizontalalignment=\"left\")\n",
        "\n",
        "    circle2 = matplotlib.patches.Circle((2, -3), radius=5, fill=False, color=\"r\")\n",
        "    axes.add_patch  (circle2)\n",
        "  #  pylab.text (2, -3, \"Circle\", horizontalalignment=\"center\")\n",
        "\n",
        "\n",
        "  \n",
        "\n",
        "if __name__ == \"__main__\":\n",
        "    pylab.xlim (-10,10)\n",
        "    pylab.ylim (-10, 10)\n",
        "    pylab.grid()\n",
        "\n",
        "    #Текущие оси        \n",
        "\n",
        "    axes = pylab.gca()\n",
        "    axes.set_aspect(\"equal\")\n",
        "\n",
        "    drawLine (axes)\n",
        "    drawCircles (axes)\n",
        "      \n",
        "    pylab.show()\n"
      ],
      "execution_count": 0,
      "outputs": [
        {
          "output_type": "display_data",
          "data": {
            "image/png": "[encoded data removed]",
            "text/plain": [
              "<matplotlib.figure.Figure at 0x7ff8a4334550>"
            ]
          },
          "metadata": {
            "tags": []
          }
        }
      ]
    },
    {
      "metadata": {
        "id": "wOkje-xnYIYz",
        "colab_type": "text"
      },
      "cell_type": "markdown",
      "source": [
        "# ** Задача №3 (стр. 241)**\n",
        "\n",
        "          Построить кривую\n",
        "          \n",
        "          (x-2)^2+(y+3)^2=16\n",
        "          \n",
        "          Решение\n",
        "             \n",
        "             Центр данной окружности проходит через точку с координатами (2;-3) и радиуса R=4\n",
        "\n"
      ]
    },
    {
      "metadata": {
        "id": "kMu5YoXsYmxm",
        "colab_type": "code",
        "colab": {
          "base_uri": "https://localhost:8080/",
          "height": 269
        },
        "outputId": "33845743-c31d-4031-e585-4e8f99394052"
      },
      "cell_type": "code",
      "source": [
        "import pylab\n",
        "import matplotlib.patches\n",
        "import matplotlib.lines\n",
        "import matplotlib.path\n",
        "\n",
        "\n",
        "def drawLine (axes):\n",
        "   # Радиус\n",
        "  \n",
        "    x0 = 2\n",
        "    y0 = -3\n",
        "    x1 = 2\n",
        "    y1 = 1\n",
        "    line = matplotlib.lines.Line2D ([x0, x1], [y0, y1], color=\"k\")\n",
        "    axes.add_line (line)\n",
        "\n",
        "    pylab.text (0.1, -0.7, \"R=4\", horizontalalignment=\"left\")\n",
        "    \n",
        "def drawCircles (axes):\n",
        "    #Окружность\n",
        "   \n",
        "    circle1 = matplotlib.patches.Circle((2, -3),  radius=0.1,  color=\"r\")\n",
        "    axes.add_patch  (circle1)\n",
        "    pylab.text (2.3,- 3.1, \"(-2;3)\", horizontalalignment=\"left\")\n",
        "\n",
        "    circle2 = matplotlib.patches.Circle((2, -3), radius=4, fill=False, color=\"r\")\n",
        "    axes.add_patch  (circle2)\n",
        "  #  pylab.text (2, -3, \"Circle\", horizontalalignment=\"center\")\n",
        "\n",
        "\n",
        "  \n",
        "\n",
        "if __name__ == \"__main__\":\n",
        "    pylab.xlim (-10,10)\n",
        "    pylab.ylim (-10, 10)\n",
        "    pylab.grid()\n",
        "\n",
        "    #Текущие оси        \n",
        "\n",
        "    axes = pylab.gca()\n",
        "    axes.set_aspect(\"equal\")\n",
        "\n",
        "    drawLine (axes)\n",
        "    drawCircles (axes)\n",
        "      \n",
        "    pylab.show()\n"
      ],
      "execution_count": 71,
      "outputs": [
        {
          "output_type": "display_data",
          "data": {
            "image/png": "[encoded data removed]",
            "text/plain": [
              "<matplotlib.figure.Figure at 0x7fda9c30b7b8>"
            ]
          },
          "metadata": {
            "tags": []
          }
        }
      ]
    },
    {
      "metadata": {
        "id": "WaxxmhUhZceQ",
        "colab_type": "text"
      },
      "cell_type": "markdown",
      "source": [
        "# ** Задача №4 (стр. 252)**\n",
        "\n",
        "      Привести уравнения кривых к каноническому виду и построить эти кривые.\n",
        "      \n",
        "                  x^2+4y^2-2x-3=0\n",
        "                  \n",
        "             Решение\n",
        "                      Данное уравнение имеет следующию каноническую форму ((x-1)^2)/4+(y)^2/1=1\n",
        "                      Полученное уравнение, является уравнением элипса, где (1;0)-центр элипса, a=2,b=1 - \n",
        "                      фокусы элипса и c=sqrt(3)\n",
        "\n",
        "\n"
      ]
    },
    {
      "metadata": {
        "id": "cPmWlz1caqTc",
        "colab_type": "code",
        "colab": {
          "base_uri": "https://localhost:8080/",
          "height": 265
        },
        "outputId": "6bfe661c-71e9-4d88-df7a-2fb0fa92b8d4"
      },
      "cell_type": "code",
      "source": [
        "from matplotlib.patches import Ellipse\n",
        "import matplotlib as mpl\n",
        "%matplotlib inline\n",
        "from matplotlib import pyplot as plt\n",
        "from math import sqrt, exp\n",
        "\n",
        "#Центр элипса\n",
        "mean = [ 1 ,  0]\n",
        "#Полуоси\n",
        "width = 2\n",
        "height = 1\n",
        "#Фокус\n",
        "angle = sqrt(3)\n",
        "ell = mpl.patches.Ellipse(xy=mean, width=width, height=height, angle = angle)\n",
        "fig, ax = plt.subplots()\n",
        "\n",
        "ax.add_patch(ell)\n",
        "ax.set_aspect('auto')\n",
        "ax.autoscale()\n",
        "plt.show()"
      ],
      "execution_count": 82,
      "outputs": [
        {
          "output_type": "display_data",
          "data": {
            "image/png": "[encoded data removed]",
            "text/plain": [
              "<matplotlib.figure.Figure at 0x7fda9f21bcf8>"
            ]
          },
          "metadata": {
            "tags": []
          }
        }
      ]
    }
  ]
}